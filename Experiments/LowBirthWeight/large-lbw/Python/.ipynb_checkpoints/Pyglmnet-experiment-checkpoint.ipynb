{
 "cells": [
  {
   "cell_type": "code",
   "execution_count": 3,
   "metadata": {},
   "outputs": [],
   "source": [
    "from pyglmnet import GLM\n",
    "from pyglmnet.datasets import fetch_group_lasso_datasets\n",
    "import numpy as np\n",
    "import matplotlib.pyplot as plt\n",
    "from sklearn.cross_validation import train_test_split\n"
   ]
  },
  {
   "cell_type": "code",
   "execution_count": 4,
   "metadata": {},
   "outputs": [],
   "source": [
    "df , group_idxs= fetch_group_lasso_datasets()"
   ]
  },
  {
   "cell_type": "code",
   "execution_count": 5,
   "metadata": {},
   "outputs": [
    {
     "name": "stderr",
     "output_type": "stream",
     "text": [
      "/home/adityagc/.local/lib/python2.7/site-packages/sklearn/cross_validation.py:41: DeprecationWarning: This module was deprecated in version 0.18 in favor of the model_selection module into which all the refactored classes and functions are moved. Also note that the interface of the new CV iterators are different from that of this module. This module will be removed in 0.20.\n",
      "  \"This module will be removed in 0.20.\", DeprecationWarning)\n"
     ]
    }
   ],
   "source": [
    "X = df[df.columns.difference([\"Label\"])].values\n",
    "y = df.loc[:, \"Label\"].values\n",
    "\n",
    "Xtrain, Xtest, ytrain, ytest = \\\n",
    "    train_test_split(X, y, test_size=0.2, random_state=42)"
   ]
  },
  {
   "cell_type": "code",
   "execution_count": 7,
   "metadata": {},
   "outputs": [
    {
     "name": "stdout",
     "output_type": "stream",
     "text": [
      "('gl_glm: ', <\n",
      "Distribution | binomial\n",
      "alpha | 1.00\n",
      "max_iter | 1000.00\n",
      "lambda: 100.00 to 0.01\n",
      ">)\n",
      "('glm: ', <\n",
      "Distribution | binomial\n",
      "alpha | 1.00\n",
      "max_iter | 1000.00\n",
      "lambda: 100.00 to 0.01\n",
      ">)\n"
     ]
    }
   ],
   "source": [
    "# set up the group lasso GLM model\n",
    "gl_glm = GLM(distr=\"binomial\",\n",
    "             tol=1e-2,\n",
    "             group=group_idxs,\n",
    "             score_metric=\"pseudo_R2\",\n",
    "             alpha=1.0,\n",
    "             reg_lambda=np.logspace(np.log(100), np.log(0.01), 5, base=np.exp(1)))\n",
    "\n",
    "\n",
    "#set up the lasso model\n",
    "glm = GLM(distr=\"binomial\",\n",
    "          tol=1e-2,\n",
    "          score_metric=\"pseudo_R2\",\n",
    "          alpha=1.0,\n",
    "          reg_lambda=np.logspace(np.log(100), np.log(0.01), 5, base=np.exp(1)))\n",
    "\n",
    "print(\"gl_glm: \", gl_glm)\n",
    "print(\"glm: \", glm)"
   ]
  },
  {
   "cell_type": "code",
   "execution_count": 8,
   "metadata": {},
   "outputs": [
    {
     "data": {
      "text/plain": [
       "<\n",
       "Distribution | binomial\n",
       "alpha | 1.00\n",
       "max_iter | 1000.00\n",
       "lambda: 100.00 to 0.01\n",
       ">"
      ]
     },
     "execution_count": 8,
     "metadata": {},
     "output_type": "execute_result"
    }
   ],
   "source": [
    "gl_glm.fit(Xtrain, ytrain)\n",
    "glm.fit(Xtrain, ytrain)"
   ]
  },
  {
   "cell_type": "code",
   "execution_count": 10,
   "metadata": {},
   "outputs": [
    {
     "data": {
      "image/png": "[encoded data removed]",
      "text/plain": [
       "<Figure size 432x288 with 1 Axes>"
      ]
     },
     "metadata": {},
     "output_type": "display_data"
    }
   ],
   "source": [
    "plt.figure()\n",
    "plt.semilogx(gl_glm.reg_lambda, gl_glm.score(Xtest, ytest), 'go-')\n",
    "plt.semilogx(gl_glm.reg_lambda, gl_glm.score(Xtrain, ytrain), 'go--')\n",
    "plt.semilogx(glm.reg_lambda, glm.score(Xtest, ytest), 'ro-')\n",
    "plt.semilogx(glm.reg_lambda, glm.score(Xtrain, ytrain), 'ro--')\n",
    "plt.legend(['Group Lasso: test',\n",
    "            'Group Lasso: train',\n",
    "            'Lasso: test',\n",
    "            'Lasso: train'], frameon=False, loc='best')\n",
    "plt.xlabel('$\\lambda$')\n",
    "plt.ylabel('pseudo-$R^2$')\n",
    "plt.ylim([-0.1, 0.7])\n",
    "\n",
    "plt.tick_params(axis='y', right=True)\n",
    "plt.tick_params(axis='x', top=False)\n",
    "ax = plt.gca()\n",
    "ax.spines['top'].set_visible(False)\n",
    "ax.spines['right'].set_visible(False)\n",
    "plt.show()"
   ]
  }
 ],
 "metadata": {
  "kernelspec": {
   "display_name": "Python 3",
   "language": "python",
   "name": "python3"
  },
  "language_info": {
   "codemirror_mode": {
    "name": "ipython",
    "version": 2
   },
   "file_extension": ".py",
   "mimetype": "text/x-python",
   "name": "python",
   "nbconvert_exporter": "python",
   "pygments_lexer": "ipython2",
   "version": "2.7.15"
  }
 },
 "nbformat": 4,
 "nbformat_minor": 2
}
