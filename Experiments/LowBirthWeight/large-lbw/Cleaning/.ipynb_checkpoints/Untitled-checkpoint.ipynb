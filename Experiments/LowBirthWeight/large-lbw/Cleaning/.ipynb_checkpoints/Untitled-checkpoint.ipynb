{
 "cells": [
  {
   "cell_type": "code",
   "execution_count": 3,
   "metadata": {},
   "outputs": [
    {
     "name": "stdout",
     "output_type": "stream",
     "text": [
      "(0, 'lin', 0, '-1111')\n",
      "(1, 'lin', 1, '-1111')\n",
      "(2, 'lin', 2, '-1111')\n",
      "(3, 'lin', 3, '-1111')\n",
      "(4, 'lin', 4, '-1111')\n",
      "(5, 'lin', 5, '-1111')\n",
      "(6, 'lin', 6, '-1111')\n",
      "(7, 'lin', 7, '-1111')\n",
      "(8, 'lin', 8, '-1111')\n",
      "(9, 'lin', 9, '-1111')\n",
      "(10, 'lin', 10, '-1111')\n",
      "(11, 'lin', 11, '-1111')\n",
      "(12, 'lin', 12, '-1111')\n",
      "(13, 'lin', 13, '-1111')\n",
      "(14, 'lin', 14, '-1111')\n",
      "(15, 'lin', 15, '-1111')\n"
     ]
    }
   ],
   "source": [
    "for i in range(16):\n",
    "    print(i, 'lin', i, '-1111')"
   ]
  }
 ],
 "metadata": {
  "kernelspec": {
   "display_name": "Python 3",
   "language": "python",
   "name": "python3"
  },
  "language_info": {
   "codemirror_mode": {
    "name": "ipython",
    "version": 2
   },
   "file_extension": ".py",
   "mimetype": "text/x-python",
   "name": "python",
   "nbconvert_exporter": "python",
   "pygments_lexer": "ipython2",
   "version": "2.7.15"
  }
 },
 "nbformat": 4,
 "nbformat_minor": 2
}
